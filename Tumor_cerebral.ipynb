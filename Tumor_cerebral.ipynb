{
  "nbformat": 4,
  "nbformat_minor": 0,
  "metadata": {
    "colab": {
      "provenance": []
    },
    "kernelspec": {
      "name": "python3",
      "display_name": "Python 3"
    },
    "language_info": {
      "name": "python"
    },
    "accelerator": "GPU",
    "gpuClass": "standard"
  },
  "cells": [
    {
      "cell_type": "markdown",
      "source": [
        "## Importação das bibliotecas"
      ],
      "metadata": {
        "id": "2ff4lrBMHvqj"
      }
    },
    {
      "cell_type": "code",
      "execution_count": null,
      "metadata": {
        "id": "BGJtyowqYrl9"
      },
      "outputs": [],
      "source": [
        "import pandas as pd\n",
        "from sklearn.model_selection import train_test_split\n",
        "import numpy as np\n",
        "import seaborn as sns\n",
        "from sklearn.metrics import confusion_matrix, accuracy_score\n",
        "import torch\n",
        "torch.__version__\n",
        "#!pip install torch==1.4.0\n",
        "import torch.nn as nn"
      ]
    },
    {
      "cell_type": "markdown",
      "source": [
        "## Base de dados"
      ],
      "metadata": {
        "id": "bzI2_L5pM5XD"
      }
    },
    {
      "cell_type": "code",
      "source": [
        "np.random.seed(123)\n",
        "torch.manual_seed(123)"
      ],
      "metadata": {
        "colab": {
          "base_uri": "https://localhost:8080/"
        },
        "id": "bdW5W7CZM80a",
        "outputId": "6c3d94b4-f57a-4d02-969e-92139d3ec84b"
      },
      "execution_count": null,
      "outputs": [
        {
          "output_type": "execute_result",
          "data": {
            "text/plain": [
              "<torch._C.Generator at 0x7f654c6ef250>"
            ]
          },
          "metadata": {},
          "execution_count": 2
        }
      ]
    },
    {
      "cell_type": "code",
      "source": [
        "previsores = pd.read_csv('/content/Brain Tumor.csv')\n",
        "previsores.shape"
      ],
      "metadata": {
        "colab": {
          "base_uri": "https://localhost:8080/"
        },
        "id": "0zvItoAoNrqP",
        "outputId": "52821e16-d79a-4a4d-89c8-d25c596693ce"
      },
      "execution_count": null,
      "outputs": [
        {
          "output_type": "execute_result",
          "data": {
            "text/plain": [
              "(3762, 15)"
            ]
          },
          "metadata": {},
          "execution_count": 3
        }
      ]
    },
    {
      "cell_type": "code",
      "source": [
        "previsores.head()"
      ],
      "metadata": {
        "colab": {
          "base_uri": "https://localhost:8080/",
          "height": 374
        },
        "id": "FG5XJSsWOZkS",
        "outputId": "e595c3a3-15c8-45bf-8474-315b2986905c"
      },
      "execution_count": null,
      "outputs": [
        {
          "output_type": "execute_result",
          "data": {
            "text/plain": [
              "    Image  Class      Mean     Variance  Standard Deviation   Entropy  \\\n",
              "0  Image1      0  6.535339   619.587845           24.891522  0.109059   \n",
              "1  Image2      0  8.749969   805.957634           28.389393  0.266538   \n",
              "2  Image3      1  7.341095  1143.808219           33.820234  0.001467   \n",
              "3  Image4      1  5.958145   959.711985           30.979219  0.001477   \n",
              "4  Image5      0  7.315231   729.540579           27.010009  0.146761   \n",
              "\n",
              "   Skewness   Kurtosis    Contrast    Energy       ASM  Homogeneity  \\\n",
              "0  4.276477  18.900575   98.613971  0.293314  0.086033     0.530941   \n",
              "1  3.718116  14.464618   63.858816  0.475051  0.225674     0.651352   \n",
              "2  5.061750  26.479563   81.867206  0.031917  0.001019     0.268275   \n",
              "3  5.677977  33.428845  151.229741  0.032024  0.001026     0.243851   \n",
              "4  4.283221  19.079108  174.988756  0.343849  0.118232     0.501140   \n",
              "\n",
              "   Dissimilarity  Correlation     Coarseness  \n",
              "0       4.473346     0.981939  7.458341e-155  \n",
              "1       3.220072     0.988834  7.458341e-155  \n",
              "2       5.981800     0.978014  7.458341e-155  \n",
              "3       7.700919     0.964189  7.458341e-155  \n",
              "4       6.834689     0.972789  7.458341e-155  "
            ],
            "text/html": [
              "\n",
              "  <div id=\"df-666b308e-f8fd-4513-8152-b155b2780b6c\">\n",
              "    <div class=\"colab-df-container\">\n",
              "      <div>\n",
              "<style scoped>\n",
              "    .dataframe tbody tr th:only-of-type {\n",
              "        vertical-align: middle;\n",
              "    }\n",
              "\n",
              "    .dataframe tbody tr th {\n",
              "        vertical-align: top;\n",
              "    }\n",
              "\n",
              "    .dataframe thead th {\n",
              "        text-align: right;\n",
              "    }\n",
              "</style>\n",
              "<table border=\"1\" class=\"dataframe\">\n",
              "  <thead>\n",
              "    <tr style=\"text-align: right;\">\n",
              "      <th></th>\n",
              "      <th>Image</th>\n",
              "      <th>Class</th>\n",
              "      <th>Mean</th>\n",
              "      <th>Variance</th>\n",
              "      <th>Standard Deviation</th>\n",
              "      <th>Entropy</th>\n",
              "      <th>Skewness</th>\n",
              "      <th>Kurtosis</th>\n",
              "      <th>Contrast</th>\n",
              "      <th>Energy</th>\n",
              "      <th>ASM</th>\n",
              "      <th>Homogeneity</th>\n",
              "      <th>Dissimilarity</th>\n",
              "      <th>Correlation</th>\n",
              "      <th>Coarseness</th>\n",
              "    </tr>\n",
              "  </thead>\n",
              "  <tbody>\n",
              "    <tr>\n",
              "      <th>0</th>\n",
              "      <td>Image1</td>\n",
              "      <td>0</td>\n",
              "      <td>6.535339</td>\n",
              "      <td>619.587845</td>\n",
              "      <td>24.891522</td>\n",
              "      <td>0.109059</td>\n",
              "      <td>4.276477</td>\n",
              "      <td>18.900575</td>\n",
              "      <td>98.613971</td>\n",
              "      <td>0.293314</td>\n",
              "      <td>0.086033</td>\n",
              "      <td>0.530941</td>\n",
              "      <td>4.473346</td>\n",
              "      <td>0.981939</td>\n",
              "      <td>7.458341e-155</td>\n",
              "    </tr>\n",
              "    <tr>\n",
              "      <th>1</th>\n",
              "      <td>Image2</td>\n",
              "      <td>0</td>\n",
              "      <td>8.749969</td>\n",
              "      <td>805.957634</td>\n",
              "      <td>28.389393</td>\n",
              "      <td>0.266538</td>\n",
              "      <td>3.718116</td>\n",
              "      <td>14.464618</td>\n",
              "      <td>63.858816</td>\n",
              "      <td>0.475051</td>\n",
              "      <td>0.225674</td>\n",
              "      <td>0.651352</td>\n",
              "      <td>3.220072</td>\n",
              "      <td>0.988834</td>\n",
              "      <td>7.458341e-155</td>\n",
              "    </tr>\n",
              "    <tr>\n",
              "      <th>2</th>\n",
              "      <td>Image3</td>\n",
              "      <td>1</td>\n",
              "      <td>7.341095</td>\n",
              "      <td>1143.808219</td>\n",
              "      <td>33.820234</td>\n",
              "      <td>0.001467</td>\n",
              "      <td>5.061750</td>\n",
              "      <td>26.479563</td>\n",
              "      <td>81.867206</td>\n",
              "      <td>0.031917</td>\n",
              "      <td>0.001019</td>\n",
              "      <td>0.268275</td>\n",
              "      <td>5.981800</td>\n",
              "      <td>0.978014</td>\n",
              "      <td>7.458341e-155</td>\n",
              "    </tr>\n",
              "    <tr>\n",
              "      <th>3</th>\n",
              "      <td>Image4</td>\n",
              "      <td>1</td>\n",
              "      <td>5.958145</td>\n",
              "      <td>959.711985</td>\n",
              "      <td>30.979219</td>\n",
              "      <td>0.001477</td>\n",
              "      <td>5.677977</td>\n",
              "      <td>33.428845</td>\n",
              "      <td>151.229741</td>\n",
              "      <td>0.032024</td>\n",
              "      <td>0.001026</td>\n",
              "      <td>0.243851</td>\n",
              "      <td>7.700919</td>\n",
              "      <td>0.964189</td>\n",
              "      <td>7.458341e-155</td>\n",
              "    </tr>\n",
              "    <tr>\n",
              "      <th>4</th>\n",
              "      <td>Image5</td>\n",
              "      <td>0</td>\n",
              "      <td>7.315231</td>\n",
              "      <td>729.540579</td>\n",
              "      <td>27.010009</td>\n",
              "      <td>0.146761</td>\n",
              "      <td>4.283221</td>\n",
              "      <td>19.079108</td>\n",
              "      <td>174.988756</td>\n",
              "      <td>0.343849</td>\n",
              "      <td>0.118232</td>\n",
              "      <td>0.501140</td>\n",
              "      <td>6.834689</td>\n",
              "      <td>0.972789</td>\n",
              "      <td>7.458341e-155</td>\n",
              "    </tr>\n",
              "  </tbody>\n",
              "</table>\n",
              "</div>\n",
              "      <button class=\"colab-df-convert\" onclick=\"convertToInteractive('df-666b308e-f8fd-4513-8152-b155b2780b6c')\"\n",
              "              title=\"Convert this dataframe to an interactive table.\"\n",
              "              style=\"display:none;\">\n",
              "        \n",
              "  <svg xmlns=\"http://www.w3.org/2000/svg\" height=\"24px\"viewBox=\"0 0 24 24\"\n",
              "       width=\"24px\">\n",
              "    <path d=\"M0 0h24v24H0V0z\" fill=\"none\"/>\n",
              "    <path d=\"M18.56 5.44l.94 2.06.94-2.06 2.06-.94-2.06-.94-.94-2.06-.94 2.06-2.06.94zm-11 1L8.5 8.5l.94-2.06 2.06-.94-2.06-.94L8.5 2.5l-.94 2.06-2.06.94zm10 10l.94 2.06.94-2.06 2.06-.94-2.06-.94-.94-2.06-.94 2.06-2.06.94z\"/><path d=\"M17.41 7.96l-1.37-1.37c-.4-.4-.92-.59-1.43-.59-.52 0-1.04.2-1.43.59L10.3 9.45l-7.72 7.72c-.78.78-.78 2.05 0 2.83L4 21.41c.39.39.9.59 1.41.59.51 0 1.02-.2 1.41-.59l7.78-7.78 2.81-2.81c.8-.78.8-2.07 0-2.86zM5.41 20L4 18.59l7.72-7.72 1.47 1.35L5.41 20z\"/>\n",
              "  </svg>\n",
              "      </button>\n",
              "      \n",
              "  <style>\n",
              "    .colab-df-container {\n",
              "      display:flex;\n",
              "      flex-wrap:wrap;\n",
              "      gap: 12px;\n",
              "    }\n",
              "\n",
              "    .colab-df-convert {\n",
              "      background-color: #E8F0FE;\n",
              "      border: none;\n",
              "      border-radius: 50%;\n",
              "      cursor: pointer;\n",
              "      display: none;\n",
              "      fill: #1967D2;\n",
              "      height: 32px;\n",
              "      padding: 0 0 0 0;\n",
              "      width: 32px;\n",
              "    }\n",
              "\n",
              "    .colab-df-convert:hover {\n",
              "      background-color: #E2EBFA;\n",
              "      box-shadow: 0px 1px 2px rgba(60, 64, 67, 0.3), 0px 1px 3px 1px rgba(60, 64, 67, 0.15);\n",
              "      fill: #174EA6;\n",
              "    }\n",
              "\n",
              "    [theme=dark] .colab-df-convert {\n",
              "      background-color: #3B4455;\n",
              "      fill: #D2E3FC;\n",
              "    }\n",
              "\n",
              "    [theme=dark] .colab-df-convert:hover {\n",
              "      background-color: #434B5C;\n",
              "      box-shadow: 0px 1px 3px 1px rgba(0, 0, 0, 0.15);\n",
              "      filter: drop-shadow(0px 1px 2px rgba(0, 0, 0, 0.3));\n",
              "      fill: #FFFFFF;\n",
              "    }\n",
              "  </style>\n",
              "\n",
              "      <script>\n",
              "        const buttonEl =\n",
              "          document.querySelector('#df-666b308e-f8fd-4513-8152-b155b2780b6c button.colab-df-convert');\n",
              "        buttonEl.style.display =\n",
              "          google.colab.kernel.accessAllowed ? 'block' : 'none';\n",
              "\n",
              "        async function convertToInteractive(key) {\n",
              "          const element = document.querySelector('#df-666b308e-f8fd-4513-8152-b155b2780b6c');\n",
              "          const dataTable =\n",
              "            await google.colab.kernel.invokeFunction('convertToInteractive',\n",
              "                                                     [key], {});\n",
              "          if (!dataTable) return;\n",
              "\n",
              "          const docLinkHtml = 'Like what you see? Visit the ' +\n",
              "            '<a target=\"_blank\" href=https://colab.research.google.com/notebooks/data_table.ipynb>data table notebook</a>'\n",
              "            + ' to learn more about interactive tables.';\n",
              "          element.innerHTML = '';\n",
              "          dataTable['output_type'] = 'display_data';\n",
              "          await google.colab.output.renderOutput(dataTable, element);\n",
              "          const docLink = document.createElement('div');\n",
              "          docLink.innerHTML = docLinkHtml;\n",
              "          element.appendChild(docLink);\n",
              "        }\n",
              "      </script>\n",
              "    </div>\n",
              "  </div>\n",
              "  "
            ]
          },
          "metadata": {},
          "execution_count": 4
        }
      ]
    },
    {
      "cell_type": "code",
      "source": [
        "#sns.countplot(previsores)\n",
        "previsores_treinamento, previsores_teste = train_test_split(previsores.iloc[:,2:], test_size = 0.25)\n",
        "#print(previsores_treinamento)\n",
        "previsores_treinamento.shape"
      ],
      "metadata": {
        "colab": {
          "base_uri": "https://localhost:8080/"
        },
        "id": "SzpT3jtcPPhx",
        "outputId": "e9713622-379a-4900-9ba5-777d89ef2001"
      },
      "execution_count": null,
      "outputs": [
        {
          "output_type": "execute_result",
          "data": {
            "text/plain": [
              "(2821, 13)"
            ]
          },
          "metadata": {},
          "execution_count": 5
        }
      ]
    },
    {
      "cell_type": "code",
      "source": [
        "previsores_teste.shape"
      ],
      "metadata": {
        "colab": {
          "base_uri": "https://localhost:8080/"
        },
        "id": "V2jo8XxvcDwa",
        "outputId": "b6abeec6-c670-495b-e4f5-adb2be02986a"
      },
      "execution_count": null,
      "outputs": [
        {
          "output_type": "execute_result",
          "data": {
            "text/plain": [
              "(941, 13)"
            ]
          },
          "metadata": {},
          "execution_count": 6
        }
      ]
    },
    {
      "cell_type": "markdown",
      "source": [
        "## Transformação dos dados para tensores"
      ],
      "metadata": {
        "id": "_zFBO_uNcKZX"
      }
    },
    {
      "cell_type": "code",
      "source": [
        "previsores_treinamento = np.array(previsores_treinamento)\n",
        "#print(previsores_treinamento)\n",
        "previsores_treinamento = torch.from_numpy(previsores_treinamento).float()"
      ],
      "metadata": {
        "id": "pfp95B4BdSxs"
      },
      "execution_count": null,
      "outputs": []
    },
    {
      "cell_type": "code",
      "source": [
        "type(previsores_treinamento)"
      ],
      "metadata": {
        "colab": {
          "base_uri": "https://localhost:8080/"
        },
        "id": "Raco-BibfcRN",
        "outputId": "a57a06e1-9d8b-4646-b5f3-1e223b5e50b4"
      },
      "execution_count": null,
      "outputs": [
        {
          "output_type": "execute_result",
          "data": {
            "text/plain": [
              "torch.Tensor"
            ]
          },
          "metadata": {},
          "execution_count": 8
        }
      ]
    },
    {
      "cell_type": "code",
      "source": [
        "if previsores_treinamento.shape[1] == 13:\n",
        "    rotulo = 'tipo'\n",
        "else:\n",
        "    rotulo = 'label'"
      ],
      "metadata": {
        "id": "WZf9UotKf37m"
      },
      "execution_count": null,
      "outputs": []
    },
    {
      "cell_type": "code",
      "source": [
        "train_dataset = torch.utils.data.TensorDataset(previsores_treinamento[:,:-1], previsores_treinamento[:,-1])\n",
        "train_loader = torch.utils.data.DataLoader(train_dataset, batch_size=10, shuffle=True)"
      ],
      "metadata": {
        "id": "STGdnS0PgTO0"
      },
      "execution_count": null,
      "outputs": []
    },
    {
      "cell_type": "markdown",
      "source": [
        "## Construção do modelo"
      ],
      "metadata": {
        "id": "b5d3dxzBnnCl"
      }
    },
    {
      "cell_type": "code",
      "source": [
        "# 12 -> 7 -> 7 -> 1\n",
        "# (entradas + saida) / 2 = (12 + 1) / 2 = 7\n",
        "classificador = nn.Sequential(\n",
        "    nn.Linear(in_features=12, out_features=7),\n",
        "    nn.ReLU(),\n",
        "    nn.Linear(7, 7),\n",
        "    nn.ReLU(),\n",
        "    nn.Linear(7, 1),\n",
        "    nn.Sigmoid()\n",
        ")\n",
        "classificador.parameters"
      ],
      "metadata": {
        "colab": {
          "base_uri": "https://localhost:8080/"
        },
        "id": "VcMldLBqnpvW",
        "outputId": "0665de1b-13a7-49f8-9da8-6884a82783f7"
      },
      "execution_count": null,
      "outputs": [
        {
          "output_type": "execute_result",
          "data": {
            "text/plain": [
              "<bound method Module.parameters of Sequential(\n",
              "  (0): Linear(in_features=12, out_features=7, bias=True)\n",
              "  (1): ReLU()\n",
              "  (2): Linear(in_features=7, out_features=7, bias=True)\n",
              "  (3): ReLU()\n",
              "  (4): Linear(in_features=7, out_features=1, bias=True)\n",
              "  (5): Sigmoid()\n",
              ")>"
            ]
          },
          "metadata": {},
          "execution_count": 11
        }
      ]
    },
    {
      "cell_type": "code",
      "source": [
        "criterion = nn.BCELoss()\n",
        "optimizer = torch.optim.Adam(classificador.parameters(), lr=0.001, weight_decay=0.0001)"
      ],
      "metadata": {
        "id": "91kGOrBboJ2K"
      },
      "execution_count": null,
      "outputs": []
    },
    {
      "cell_type": "markdown",
      "source": [
        "## Treinamento do modelo"
      ],
      "metadata": {
        "id": "N43hHXNjopS-"
      }
    },
    {
      "cell_type": "code",
      "source": [
        "for epoch in range(100):\n",
        "  running_loss = 0.\n",
        "\n",
        "  for data in train_loader:\n",
        "    inputs, labels = data\n",
        "    #print(inputs)\n",
        "    #print('-----') \n",
        "    #print(labels)\n",
        "    optimizer.zero_grad()\n",
        "\n",
        "    outputs = classificador(inputs) # classificador.forward(inputs)\n",
        "    #print(outputs)\n",
        "    loss = criterion(outputs, labels.unsqueeze(1))\n",
        "    #print(loss)\n",
        "    loss.backward()\n",
        "    optimizer.step()\n",
        "\n",
        "    running_loss += loss.item()\n",
        "  print('Época %3d: perda %.5f' % (epoch+1, running_loss/len(train_loader)))\n"
      ],
      "metadata": {
        "colab": {
          "base_uri": "https://localhost:8080/"
        },
        "id": "L69kvhtposB0",
        "outputId": "4a1dd6da-c53e-4fec-f8ad-c1eb5a5f577b"
      },
      "execution_count": null,
      "outputs": [
        {
          "output_type": "stream",
          "name": "stdout",
          "text": [
            "Época   1: perda 0.00064\n",
            "Época   2: perda 0.00010\n",
            "Época   3: perda 0.00005\n",
            "Época   4: perda 0.00003\n",
            "Época   5: perda 0.00002\n",
            "Época   6: perda 0.00002\n",
            "Época   7: perda 0.00002\n",
            "Época   8: perda 0.00002\n",
            "Época   9: perda 0.00001\n",
            "Época  10: perda 0.00001\n",
            "Época  11: perda 0.00001\n",
            "Época  12: perda 0.00001\n",
            "Época  13: perda 0.00001\n",
            "Época  14: perda 0.00001\n",
            "Época  15: perda 0.00001\n",
            "Época  16: perda 0.00001\n",
            "Época  17: perda 0.00001\n",
            "Época  18: perda 0.00001\n",
            "Época  19: perda 0.00001\n",
            "Época  20: perda 0.00001\n",
            "Época  21: perda 0.00001\n",
            "Época  22: perda 0.00001\n",
            "Época  23: perda 0.00000\n",
            "Época  24: perda 0.00013\n",
            "Época  25: perda 0.00000\n",
            "Época  26: perda 0.00000\n",
            "Época  27: perda 0.00000\n",
            "Época  28: perda 0.00000\n",
            "Época  29: perda 0.00000\n",
            "Época  30: perda 0.00000\n",
            "Época  31: perda 0.00001\n",
            "Época  32: perda 0.00001\n",
            "Época  33: perda 0.00001\n",
            "Época  34: perda 0.00001\n",
            "Época  35: perda 0.00001\n",
            "Época  36: perda 0.00001\n",
            "Época  37: perda 0.00001\n",
            "Época  38: perda 0.00001\n",
            "Época  39: perda 0.00001\n",
            "Época  40: perda 0.00000\n",
            "Época  41: perda 0.00001\n",
            "Época  42: perda 0.00001\n",
            "Época  43: perda 0.00001\n",
            "Época  44: perda 0.00001\n",
            "Época  45: perda 0.00000\n",
            "Época  46: perda 0.00001\n",
            "Época  47: perda 0.00001\n",
            "Época  48: perda 0.00001\n",
            "Época  49: perda 0.00001\n",
            "Época  50: perda 0.00001\n",
            "Época  51: perda 0.00001\n",
            "Época  52: perda 0.00001\n",
            "Época  53: perda 0.00001\n",
            "Época  54: perda 0.00001\n",
            "Época  55: perda 0.00001\n",
            "Época  56: perda 0.00001\n",
            "Época  57: perda 0.00001\n",
            "Época  58: perda 0.00001\n",
            "Época  59: perda 0.00001\n",
            "Época  60: perda 0.00001\n",
            "Época  61: perda 0.00001\n",
            "Época  62: perda 0.00001\n",
            "Época  63: perda 0.00001\n",
            "Época  64: perda 0.00001\n",
            "Época  65: perda 0.00001\n",
            "Época  66: perda 0.00001\n",
            "Época  67: perda 0.00001\n",
            "Época  68: perda 0.00001\n",
            "Época  69: perda 0.00001\n",
            "Época  70: perda 0.00001\n",
            "Época  71: perda 0.00001\n",
            "Época  72: perda 0.00000\n",
            "Época  73: perda 0.00001\n",
            "Época  74: perda 0.00001\n",
            "Época  75: perda 0.00001\n",
            "Época  76: perda 0.00001\n",
            "Época  77: perda 0.00001\n",
            "Época  78: perda 0.00002\n",
            "Época  79: perda 0.00001\n",
            "Época  80: perda 0.00001\n",
            "Época  81: perda 0.00000\n",
            "Época  82: perda 0.00001\n",
            "Época  83: perda 0.00000\n",
            "Época  84: perda 0.00001\n",
            "Época  85: perda 0.00001\n",
            "Época  86: perda 0.00001\n",
            "Época  87: perda 0.00001\n",
            "Época  88: perda 0.00001\n",
            "Época  89: perda 0.00001\n",
            "Época  90: perda 0.00001\n",
            "Época  91: perda 0.00001\n",
            "Época  92: perda 0.00001\n",
            "Época  93: perda 0.00001\n",
            "Época  94: perda 0.00001\n",
            "Época  95: perda 0.00000\n",
            "Época  96: perda 0.00001\n",
            "Época  97: perda 0.00001\n",
            "Época  98: perda 0.00001\n",
            "Época  99: perda 0.00001\n",
            "Época 100: perda 0.00001\n"
          ]
        }
      ]
    }
  ]
}